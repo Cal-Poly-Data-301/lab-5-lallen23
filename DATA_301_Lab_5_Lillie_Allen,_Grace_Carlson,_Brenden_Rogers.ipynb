{
  "nbformat": 4,
  "nbformat_minor": 0,
  "metadata": {
    "kernelspec": {
      "display_name": "Python 3",
      "language": "python",
      "name": "python3"
    },
    "language_info": {
      "codemirror_mode": {
        "name": "ipython",
        "version": 3
      },
      "file_extension": ".py",
      "mimetype": "text/x-python",
      "name": "python",
      "nbconvert_exporter": "python",
      "pygments_lexer": "ipython3",
      "version": "3.6.8"
    },
    "colab": {
      "name": "DATA 301 Lab 5 - Lillie Allen, Grace Carlson, Brenden Rogers",
      "provenance": [],
      "collapsed_sections": [],
      "include_colab_link": true
    }
  },
  "cells": [
    {
      "cell_type": "markdown",
      "metadata": {
        "id": "view-in-github",
        "colab_type": "text"
      },
      "source": [
        "<a href=\"https://colab.research.google.com/github/Cal-Poly-Data-301/lab-5-lallen23/blob/main/DATA_301_Lab_5_Lillie_Allen%2C_Grace_Carlson%2C_Brenden_Rogers.ipynb\" target=\"_parent\"><img src=\"https://colab.research.google.com/assets/colab-badge.svg\" alt=\"Open In Colab\"/></a>"
      ]
    },
    {
      "cell_type": "markdown",
      "metadata": {
        "id": "iG3X1KFIBLUK"
      },
      "source": [
        "# Authorship of the Federalist Papers\n",
        "\n",
        "The _Federalist Papers_ were a set of 85 essays published between 1787 and 1788 to promote the ratification of the United States Constitution. They were originally published under the pseudonym \"Publius\". Although the identity of the authors was a closely guarded secret at the time, most of the papers have since been conclusively attributed to one of Hamilton, Jay, or Madison. The known authorships can be found in `https://dlsun.github.io/pods/data/federalist/authorship.csv`.\n",
        "\n",
        "For 15 of the papers, however, the authorships remain disputed. (These papers can be identified from the `authorship.csv` file because the \"Author\" field is blank.) In this analysis, you will use the papers with known authorship to predict the authorships of the disputed papers. The text of each paper is available at `https://dlsun.github.io/pods/data/federalist/x.txt`, where `x` is the number of the paper (i.e., a number from 1 to 85). The name of the file indicates the number of the paper."
      ]
    },
    {
      "cell_type": "code",
      "source": [
        "import pandas as pd\n",
        "import numpy as np\n",
        "import requests"
      ],
      "metadata": {
        "id": "hIzaeerIJbRf"
      },
      "execution_count": 1,
      "outputs": []
    },
    {
      "cell_type": "code",
      "source": [
        "data_dir = \"https://dlsun.github.io/pods/data/federalist/\"\n",
        "authorship_df = pd.read_csv(data_dir + \"authorship.csv\")"
      ],
      "metadata": {
        "id": "u8nHD4JVJqB1"
      },
      "execution_count": 2,
      "outputs": []
    },
    {
      "cell_type": "markdown",
      "metadata": {
        "id": "8YRe6SB3BLUN"
      },
      "source": [
        "## Question 1\n",
        "\n",
        "When analyzing an author's style, common words like \"the\" and \"on\" are actually more useful than rare words like \"hostilities\". That is because rare words typically signify context. Context is useful if you are trying to find documents about similar topics, but not so useful if you are trying to identify an author's style because different authors can write about the same topic. For example, both Dr. Seuss and Charles Dickens used rare words like \"chimney\" and \"stockings\" in _How the Grinch Stole Christmas_ and _A Christmas Carol_, respectively. But they used common words very differently: Dickens used the word \"upon\" over 100 times, while Dr. Seuss did not use \"upon\" even once.\n",
        "\n",
        "Read in the Federalist Papers. Convert each one into a vector of term frequencies. In order to restrict to common words, include only the top 50 words across the corpus. (Because we are restricting to the most common words already, there is no reason to reweight them using TF-IDF.)"
      ]
    },
    {
      "cell_type": "code",
      "source": [
        "from collections import Counter"
      ],
      "metadata": {
        "id": "ybEF7EYzOYyL"
      },
      "execution_count": 3,
      "outputs": []
    },
    {
      "cell_type": "code",
      "source": [
        "federalist_files = []\n",
        "for i in range(1, 86):\n",
        "  federalist_files.append(str(i) + \".txt\")"
      ],
      "metadata": {
        "id": "UBOy-rssujFa"
      },
      "execution_count": 4,
      "outputs": []
    },
    {
      "cell_type": "code",
      "source": [
        "docs_federalist = pd.Series()\n",
        "for file in federalist_files:\n",
        "    response = requests.get(data_dir + file, \"r\")\n",
        "    docs_federalist[file[:-4]] = response.text"
      ],
      "metadata": {
        "colab": {
          "base_uri": "https://localhost:8080/"
        },
        "id": "c0I0rn7tNnHu",
        "outputId": "d58fc00c-8fd5-40c3-bf74-8dec0c8b7515"
      },
      "execution_count": 24,
      "outputs": [
        {
          "output_type": "stream",
          "name": "stderr",
          "text": [
            "/usr/local/lib/python3.7/dist-packages/ipykernel_launcher.py:1: DeprecationWarning: The default dtype for empty Series will be 'object' instead of 'float64' in a future version. Specify a dtype explicitly to silence this warning.\n",
            "  \"\"\"Entry point for launching an IPython kernel.\n"
          ]
        }
      ]
    },
    {
      "cell_type": "code",
      "source": [
        "bag_of_words = (\n",
        "    docs_federalist.\n",
        "    str.lower().                  # convert all letters to lowercase\n",
        "    str.replace(\"[^\\w\\s]\", \" \").  # replace non-alphanumeric characters by whitespace\n",
        "    str.split()                   # split on whitespace\n",
        ").apply(Counter)\n",
        "\n",
        "bag_of_words\n",
        "tf = pd.DataFrame(list(bag_of_words))\n",
        "new = tf.fillna(0)"
      ],
      "metadata": {
        "colab": {
          "base_uri": "https://localhost:8080/"
        },
        "id": "XwQRp007KmA8",
        "outputId": "3d6cbf45-cc20-4ff9-d1c1-fa847acb0d7f"
      },
      "execution_count": 6,
      "outputs": [
        {
          "output_type": "stream",
          "name": "stderr",
          "text": [
            "/usr/local/lib/python3.7/dist-packages/ipykernel_launcher.py:4: FutureWarning: The default value of regex will change from True to False in a future version.\n",
            "  after removing the cwd from sys.path.\n"
          ]
        }
      ]
    },
    {
      "cell_type": "code",
      "source": [
        "from sklearn.feature_extraction.text import CountVectorizer\n",
        "\n",
        "vec = CountVectorizer().fit(docs_federalist) # This determines the vocabulary.\n",
        "tf_sparse = vec.transform(docs_federalist)\n",
        "\n",
        "pd.DataFrame(\n",
        "    tf_sparse.todense(),\n",
        "    columns=vec.get_feature_names()\n",
        ")\n",
        "\n",
        "sum_words = tf_sparse.sum(axis=0) \n",
        "words_freq = [(word, sum_words[0, idx]) for word, idx in     vec.vocabulary_.items()]\n",
        "words_freq =sorted(words_freq, key = lambda x: x[1], reverse=True)\n",
        "top_50 = words_freq[:50]"
      ],
      "metadata": {
        "colab": {
          "base_uri": "https://localhost:8080/"
        },
        "id": "vFuDfUiX16VK",
        "outputId": "bdbc41e5-4a49-47ab-f534-57ea07ccc0ca"
      },
      "execution_count": 7,
      "outputs": [
        {
          "output_type": "stream",
          "name": "stderr",
          "text": [
            "/usr/local/lib/python3.7/dist-packages/sklearn/utils/deprecation.py:87: FutureWarning: Function get_feature_names is deprecated; get_feature_names is deprecated in 1.0 and will be removed in 1.2. Please use get_feature_names_out instead.\n",
            "  warnings.warn(msg, category=FutureWarning)\n"
          ]
        }
      ]
    },
    {
      "cell_type": "code",
      "source": [
        "list_top_words = []\n",
        "for i in range(len(top_50)):\n",
        "  list_top_words.append(top_50[i][0])\n",
        "frequency_df = new[list_top_words]\n",
        "frequency_df.head()"
      ],
      "metadata": {
        "colab": {
          "base_uri": "https://localhost:8080/",
          "height": 270
        },
        "id": "CPSEciroQIIt",
        "outputId": "40a92891-c021-42f1-b463-bf4d53077b60"
      },
      "execution_count": 8,
      "outputs": [
        {
          "output_type": "execute_result",
          "data": {
            "text/html": [
              "\n",
              "  <div id=\"df-fdfe9196-15a0-43bb-a7d3-fc1b8436ca93\">\n",
              "    <div class=\"colab-df-container\">\n",
              "      <div>\n",
              "<style scoped>\n",
              "    .dataframe tbody tr th:only-of-type {\n",
              "        vertical-align: middle;\n",
              "    }\n",
              "\n",
              "    .dataframe tbody tr th {\n",
              "        vertical-align: top;\n",
              "    }\n",
              "\n",
              "    .dataframe thead th {\n",
              "        text-align: right;\n",
              "    }\n",
              "</style>\n",
              "<table border=\"1\" class=\"dataframe\">\n",
              "  <thead>\n",
              "    <tr style=\"text-align: right;\">\n",
              "      <th></th>\n",
              "      <th>the</th>\n",
              "      <th>of</th>\n",
              "      <th>to</th>\n",
              "      <th>and</th>\n",
              "      <th>in</th>\n",
              "      <th>be</th>\n",
              "      <th>that</th>\n",
              "      <th>it</th>\n",
              "      <th>is</th>\n",
              "      <th>which</th>\n",
              "      <th>by</th>\n",
              "      <th>as</th>\n",
              "      <th>this</th>\n",
              "      <th>would</th>\n",
              "      <th>have</th>\n",
              "      <th>will</th>\n",
              "      <th>for</th>\n",
              "      <th>or</th>\n",
              "      <th>not</th>\n",
              "      <th>their</th>\n",
              "      <th>with</th>\n",
              "      <th>from</th>\n",
              "      <th>are</th>\n",
              "      <th>on</th>\n",
              "      <th>they</th>\n",
              "      <th>an</th>\n",
              "      <th>states</th>\n",
              "      <th>government</th>\n",
              "      <th>may</th>\n",
              "      <th>been</th>\n",
              "      <th>state</th>\n",
              "      <th>all</th>\n",
              "      <th>but</th>\n",
              "      <th>its</th>\n",
              "      <th>other</th>\n",
              "      <th>people</th>\n",
              "      <th>has</th>\n",
              "      <th>power</th>\n",
              "      <th>more</th>\n",
              "      <th>at</th>\n",
              "      <th>if</th>\n",
              "      <th>than</th>\n",
              "      <th>them</th>\n",
              "      <th>one</th>\n",
              "      <th>any</th>\n",
              "      <th>no</th>\n",
              "      <th>those</th>\n",
              "      <th>can</th>\n",
              "      <th>constitution</th>\n",
              "      <th>we</th>\n",
              "    </tr>\n",
              "  </thead>\n",
              "  <tbody>\n",
              "    <tr>\n",
              "      <th>0</th>\n",
              "      <td>133</td>\n",
              "      <td>106</td>\n",
              "      <td>72</td>\n",
              "      <td>40</td>\n",
              "      <td>27</td>\n",
              "      <td>34</td>\n",
              "      <td>28</td>\n",
              "      <td>20</td>\n",
              "      <td>13</td>\n",
              "      <td>18</td>\n",
              "      <td>14</td>\n",
              "      <td>10</td>\n",
              "      <td>14</td>\n",
              "      <td>2</td>\n",
              "      <td>10</td>\n",
              "      <td>25</td>\n",
              "      <td>12</td>\n",
              "      <td>6</td>\n",
              "      <td>14</td>\n",
              "      <td>14</td>\n",
              "      <td>6</td>\n",
              "      <td>11</td>\n",
              "      <td>12</td>\n",
              "      <td>9.0</td>\n",
              "      <td>6</td>\n",
              "      <td>11</td>\n",
              "      <td>2.0</td>\n",
              "      <td>9</td>\n",
              "      <td>11.0</td>\n",
              "      <td>3.0</td>\n",
              "      <td>6</td>\n",
              "      <td>9</td>\n",
              "      <td>2</td>\n",
              "      <td>10.0</td>\n",
              "      <td>3</td>\n",
              "      <td>6</td>\n",
              "      <td>6.0</td>\n",
              "      <td>2.0</td>\n",
              "      <td>7.0</td>\n",
              "      <td>8</td>\n",
              "      <td>4.0</td>\n",
              "      <td>11.0</td>\n",
              "      <td>2.0</td>\n",
              "      <td>4</td>\n",
              "      <td>6.0</td>\n",
              "      <td>3.0</td>\n",
              "      <td>9.0</td>\n",
              "      <td>3.0</td>\n",
              "      <td>8.0</td>\n",
              "      <td>8.0</td>\n",
              "    </tr>\n",
              "    <tr>\n",
              "      <th>1</th>\n",
              "      <td>107</td>\n",
              "      <td>83</td>\n",
              "      <td>53</td>\n",
              "      <td>83</td>\n",
              "      <td>34</td>\n",
              "      <td>15</td>\n",
              "      <td>44</td>\n",
              "      <td>38</td>\n",
              "      <td>16</td>\n",
              "      <td>11</td>\n",
              "      <td>10</td>\n",
              "      <td>16</td>\n",
              "      <td>14</td>\n",
              "      <td>5</td>\n",
              "      <td>17</td>\n",
              "      <td>2</td>\n",
              "      <td>13</td>\n",
              "      <td>10</td>\n",
              "      <td>10</td>\n",
              "      <td>21</td>\n",
              "      <td>13</td>\n",
              "      <td>4</td>\n",
              "      <td>6</td>\n",
              "      <td>8.0</td>\n",
              "      <td>22</td>\n",
              "      <td>1</td>\n",
              "      <td>2.0</td>\n",
              "      <td>9</td>\n",
              "      <td>4.0</td>\n",
              "      <td>8.0</td>\n",
              "      <td>1</td>\n",
              "      <td>4</td>\n",
              "      <td>8</td>\n",
              "      <td>5.0</td>\n",
              "      <td>4</td>\n",
              "      <td>23</td>\n",
              "      <td>6.0</td>\n",
              "      <td>1.0</td>\n",
              "      <td>5.0</td>\n",
              "      <td>10</td>\n",
              "      <td>3.0</td>\n",
              "      <td>5.0</td>\n",
              "      <td>4.0</td>\n",
              "      <td>10</td>\n",
              "      <td>1.0</td>\n",
              "      <td>1.0</td>\n",
              "      <td>2.0</td>\n",
              "      <td>0.0</td>\n",
              "      <td>0.0</td>\n",
              "      <td>5.0</td>\n",
              "    </tr>\n",
              "    <tr>\n",
              "      <th>2</th>\n",
              "      <td>93</td>\n",
              "      <td>62</td>\n",
              "      <td>56</td>\n",
              "      <td>60</td>\n",
              "      <td>25</td>\n",
              "      <td>31</td>\n",
              "      <td>20</td>\n",
              "      <td>21</td>\n",
              "      <td>7</td>\n",
              "      <td>11</td>\n",
              "      <td>18</td>\n",
              "      <td>24</td>\n",
              "      <td>6</td>\n",
              "      <td>2</td>\n",
              "      <td>7</td>\n",
              "      <td>24</td>\n",
              "      <td>11</td>\n",
              "      <td>32</td>\n",
              "      <td>13</td>\n",
              "      <td>11</td>\n",
              "      <td>10</td>\n",
              "      <td>15</td>\n",
              "      <td>8</td>\n",
              "      <td>6.0</td>\n",
              "      <td>5</td>\n",
              "      <td>3</td>\n",
              "      <td>11.0</td>\n",
              "      <td>16</td>\n",
              "      <td>6.0</td>\n",
              "      <td>2.0</td>\n",
              "      <td>8</td>\n",
              "      <td>4</td>\n",
              "      <td>7</td>\n",
              "      <td>1.0</td>\n",
              "      <td>7</td>\n",
              "      <td>8</td>\n",
              "      <td>5.0</td>\n",
              "      <td>3.0</td>\n",
              "      <td>13.0</td>\n",
              "      <td>1</td>\n",
              "      <td>7.0</td>\n",
              "      <td>8.0</td>\n",
              "      <td>8.0</td>\n",
              "      <td>8</td>\n",
              "      <td>5.0</td>\n",
              "      <td>2.0</td>\n",
              "      <td>6.0</td>\n",
              "      <td>3.0</td>\n",
              "      <td>0.0</td>\n",
              "      <td>0.0</td>\n",
              "    </tr>\n",
              "    <tr>\n",
              "      <th>3</th>\n",
              "      <td>86</td>\n",
              "      <td>72</td>\n",
              "      <td>51</td>\n",
              "      <td>90</td>\n",
              "      <td>24</td>\n",
              "      <td>26</td>\n",
              "      <td>17</td>\n",
              "      <td>28</td>\n",
              "      <td>10</td>\n",
              "      <td>10</td>\n",
              "      <td>14</td>\n",
              "      <td>20</td>\n",
              "      <td>1</td>\n",
              "      <td>17</td>\n",
              "      <td>9</td>\n",
              "      <td>15</td>\n",
              "      <td>12</td>\n",
              "      <td>24</td>\n",
              "      <td>14</td>\n",
              "      <td>19</td>\n",
              "      <td>12</td>\n",
              "      <td>8</td>\n",
              "      <td>11</td>\n",
              "      <td>11.0</td>\n",
              "      <td>17</td>\n",
              "      <td>3</td>\n",
              "      <td>1.0</td>\n",
              "      <td>16</td>\n",
              "      <td>10.0</td>\n",
              "      <td>2.0</td>\n",
              "      <td>6</td>\n",
              "      <td>4</td>\n",
              "      <td>10</td>\n",
              "      <td>9.0</td>\n",
              "      <td>11</td>\n",
              "      <td>8</td>\n",
              "      <td>1.0</td>\n",
              "      <td>2.0</td>\n",
              "      <td>13.0</td>\n",
              "      <td>2</td>\n",
              "      <td>14.0</td>\n",
              "      <td>9.0</td>\n",
              "      <td>12.0</td>\n",
              "      <td>13</td>\n",
              "      <td>5.0</td>\n",
              "      <td>1.0</td>\n",
              "      <td>4.0</td>\n",
              "      <td>8.0</td>\n",
              "      <td>0.0</td>\n",
              "      <td>10.0</td>\n",
              "    </tr>\n",
              "    <tr>\n",
              "      <th>4</th>\n",
              "      <td>66</td>\n",
              "      <td>53</td>\n",
              "      <td>45</td>\n",
              "      <td>72</td>\n",
              "      <td>28</td>\n",
              "      <td>31</td>\n",
              "      <td>23</td>\n",
              "      <td>21</td>\n",
              "      <td>7</td>\n",
              "      <td>10</td>\n",
              "      <td>10</td>\n",
              "      <td>3</td>\n",
              "      <td>6</td>\n",
              "      <td>37</td>\n",
              "      <td>1</td>\n",
              "      <td>7</td>\n",
              "      <td>7</td>\n",
              "      <td>10</td>\n",
              "      <td>8</td>\n",
              "      <td>11</td>\n",
              "      <td>11</td>\n",
              "      <td>11</td>\n",
              "      <td>3</td>\n",
              "      <td>5.0</td>\n",
              "      <td>11</td>\n",
              "      <td>4</td>\n",
              "      <td>1.0</td>\n",
              "      <td>2</td>\n",
              "      <td>2.0</td>\n",
              "      <td>0.0</td>\n",
              "      <td>2</td>\n",
              "      <td>4</td>\n",
              "      <td>4</td>\n",
              "      <td>4.0</td>\n",
              "      <td>4</td>\n",
              "      <td>3</td>\n",
              "      <td>0.0</td>\n",
              "      <td>1.0</td>\n",
              "      <td>11.0</td>\n",
              "      <td>4</td>\n",
              "      <td>3.0</td>\n",
              "      <td>9.0</td>\n",
              "      <td>11.0</td>\n",
              "      <td>10</td>\n",
              "      <td>3.0</td>\n",
              "      <td>2.0</td>\n",
              "      <td>9.0</td>\n",
              "      <td>1.0</td>\n",
              "      <td>0.0</td>\n",
              "      <td>5.0</td>\n",
              "    </tr>\n",
              "  </tbody>\n",
              "</table>\n",
              "</div>\n",
              "      <button class=\"colab-df-convert\" onclick=\"convertToInteractive('df-fdfe9196-15a0-43bb-a7d3-fc1b8436ca93')\"\n",
              "              title=\"Convert this dataframe to an interactive table.\"\n",
              "              style=\"display:none;\">\n",
              "        \n",
              "  <svg xmlns=\"http://www.w3.org/2000/svg\" height=\"24px\"viewBox=\"0 0 24 24\"\n",
              "       width=\"24px\">\n",
              "    <path d=\"M0 0h24v24H0V0z\" fill=\"none\"/>\n",
              "    <path d=\"M18.56 5.44l.94 2.06.94-2.06 2.06-.94-2.06-.94-.94-2.06-.94 2.06-2.06.94zm-11 1L8.5 8.5l.94-2.06 2.06-.94-2.06-.94L8.5 2.5l-.94 2.06-2.06.94zm10 10l.94 2.06.94-2.06 2.06-.94-2.06-.94-.94-2.06-.94 2.06-2.06.94z\"/><path d=\"M17.41 7.96l-1.37-1.37c-.4-.4-.92-.59-1.43-.59-.52 0-1.04.2-1.43.59L10.3 9.45l-7.72 7.72c-.78.78-.78 2.05 0 2.83L4 21.41c.39.39.9.59 1.41.59.51 0 1.02-.2 1.41-.59l7.78-7.78 2.81-2.81c.8-.78.8-2.07 0-2.86zM5.41 20L4 18.59l7.72-7.72 1.47 1.35L5.41 20z\"/>\n",
              "  </svg>\n",
              "      </button>\n",
              "      \n",
              "  <style>\n",
              "    .colab-df-container {\n",
              "      display:flex;\n",
              "      flex-wrap:wrap;\n",
              "      gap: 12px;\n",
              "    }\n",
              "\n",
              "    .colab-df-convert {\n",
              "      background-color: #E8F0FE;\n",
              "      border: none;\n",
              "      border-radius: 50%;\n",
              "      cursor: pointer;\n",
              "      display: none;\n",
              "      fill: #1967D2;\n",
              "      height: 32px;\n",
              "      padding: 0 0 0 0;\n",
              "      width: 32px;\n",
              "    }\n",
              "\n",
              "    .colab-df-convert:hover {\n",
              "      background-color: #E2EBFA;\n",
              "      box-shadow: 0px 1px 2px rgba(60, 64, 67, 0.3), 0px 1px 3px 1px rgba(60, 64, 67, 0.15);\n",
              "      fill: #174EA6;\n",
              "    }\n",
              "\n",
              "    [theme=dark] .colab-df-convert {\n",
              "      background-color: #3B4455;\n",
              "      fill: #D2E3FC;\n",
              "    }\n",
              "\n",
              "    [theme=dark] .colab-df-convert:hover {\n",
              "      background-color: #434B5C;\n",
              "      box-shadow: 0px 1px 3px 1px rgba(0, 0, 0, 0.15);\n",
              "      filter: drop-shadow(0px 1px 2px rgba(0, 0, 0, 0.3));\n",
              "      fill: #FFFFFF;\n",
              "    }\n",
              "  </style>\n",
              "\n",
              "      <script>\n",
              "        const buttonEl =\n",
              "          document.querySelector('#df-fdfe9196-15a0-43bb-a7d3-fc1b8436ca93 button.colab-df-convert');\n",
              "        buttonEl.style.display =\n",
              "          google.colab.kernel.accessAllowed ? 'block' : 'none';\n",
              "\n",
              "        async function convertToInteractive(key) {\n",
              "          const element = document.querySelector('#df-fdfe9196-15a0-43bb-a7d3-fc1b8436ca93');\n",
              "          const dataTable =\n",
              "            await google.colab.kernel.invokeFunction('convertToInteractive',\n",
              "                                                     [key], {});\n",
              "          if (!dataTable) return;\n",
              "\n",
              "          const docLinkHtml = 'Like what you see? Visit the ' +\n",
              "            '<a target=\"_blank\" href=https://colab.research.google.com/notebooks/data_table.ipynb>data table notebook</a>'\n",
              "            + ' to learn more about interactive tables.';\n",
              "          element.innerHTML = '';\n",
              "          dataTable['output_type'] = 'display_data';\n",
              "          await google.colab.output.renderOutput(dataTable, element);\n",
              "          const docLink = document.createElement('div');\n",
              "          docLink.innerHTML = docLinkHtml;\n",
              "          element.appendChild(docLink);\n",
              "        }\n",
              "      </script>\n",
              "    </div>\n",
              "  </div>\n",
              "  "
            ],
            "text/plain": [
              "   the   of  to  and  in  be  ...  any   no  those  can  constitution    we\n",
              "0  133  106  72   40  27  34  ...  6.0  3.0    9.0  3.0           8.0   8.0\n",
              "1  107   83  53   83  34  15  ...  1.0  1.0    2.0  0.0           0.0   5.0\n",
              "2   93   62  56   60  25  31  ...  5.0  2.0    6.0  3.0           0.0   0.0\n",
              "3   86   72  51   90  24  26  ...  5.0  1.0    4.0  8.0           0.0  10.0\n",
              "4   66   53  45   72  28  31  ...  3.0  2.0    9.0  1.0           0.0   5.0\n",
              "\n",
              "[5 rows x 50 columns]"
            ]
          },
          "metadata": {},
          "execution_count": 8
        }
      ]
    },
    {
      "cell_type": "markdown",
      "metadata": {
        "id": "bDLgJQtaHljA"
      },
      "source": [
        "## Question 2\n",
        "Make a visualization that summarizes the most common words used by Hamilton, Madison, and Jay."
      ]
    },
    {
      "cell_type": "code",
      "source": [
        "tfdf = pd.DataFrame(\n",
        "    tf_sparse.todense(),\n",
        "    columns=vec.get_feature_names()\n",
        ")\n",
        "\n",
        "tfdf[\"Author\"] = authorship_df[\"Author\"]\n",
        "\n",
        "tfdf.groupby(\"Author\").sum().iloc[0].sort_values(ascending=False)[:5].plot.bar(legend=True, color=\"red\")\n",
        "tfdf.groupby(\"Author\").sum().iloc[2].sort_values(ascending=False)[:5].plot.bar(legend=True, color=\"blue\")\n",
        "tfdf.groupby(\"Author\").sum().iloc[1].sort_values(ascending=False)[:5].plot.bar(legend=True, color=\"green\")"
      ],
      "metadata": {
        "colab": {
          "base_uri": "https://localhost:8080/",
          "height": 346
        },
        "id": "LSOfVSTKuhNz",
        "outputId": "78ea3eca-9a66-4724-f8ba-a5ee841a4fa3"
      },
      "execution_count": 23,
      "outputs": [
        {
          "output_type": "stream",
          "name": "stderr",
          "text": [
            "/usr/local/lib/python3.7/dist-packages/sklearn/utils/deprecation.py:87: FutureWarning: Function get_feature_names is deprecated; get_feature_names is deprecated in 1.0 and will be removed in 1.2. Please use get_feature_names_out instead.\n",
            "  warnings.warn(msg, category=FutureWarning)\n"
          ]
        },
        {
          "output_type": "execute_result",
          "data": {
            "text/plain": [
              "<matplotlib.axes._subplots.AxesSubplot at 0x7f6745226a50>"
            ]
          },
          "metadata": {},
          "execution_count": 23
        },
        {
          "output_type": "display_data",
          "data": {
            "image/png": "[encoded data removed]",
            "text/plain": [
              "<Figure size 432x288 with 1 Axes>"
            ]
          },
          "metadata": {
            "needs_background": "light"
          }
        }
      ]
    },
    {
      "cell_type": "markdown",
      "metadata": {
        "id": "fh0DzmKrBLUT"
      },
      "source": [
        "## Question 3\n",
        "\n",
        "For each of the documents with disputed authorships, find the 5 most similar documents with _known_ authorships, using cosine distance on the term frequencies. Use the authors of these 5 most similar documents to predict the author of each disputed document. (For example, if 3 of the 5 closest documents were written by Hamilton, 1 by Madison, and 1 by Jay, then we would predict that the disputed document was written by Hamilton.)"
      ]
    },
    {
      "cell_type": "code",
      "source": [
        "authorship_df['Author'].isna()\n",
        "[index for index, row in authorship_df.iterrows() if row.isnull().any()]"
      ],
      "metadata": {
        "colab": {
          "base_uri": "https://localhost:8080/"
        },
        "id": "GowL1yahPTkL",
        "outputId": "6a401c61-8d3c-494d-9a83-f965f7b8def0"
      },
      "execution_count": 18,
      "outputs": [
        {
          "output_type": "execute_result",
          "data": {
            "text/plain": [
              "[17, 18, 19, 48, 49, 50, 51, 52, 53, 54, 55, 56, 57, 61, 62]"
            ]
          },
          "metadata": {},
          "execution_count": 18
        }
      ]
    },
    {
      "cell_type": "code",
      "source": [
        "disputed_index_list = [index for index, row in authorship_df.iterrows() if row.isnull().any()]"
      ],
      "metadata": {
        "id": "KjCzD69-QnzS"
      },
      "execution_count": 19,
      "outputs": []
    },
    {
      "cell_type": "code",
      "source": [
        "from sklearn.metrics.pairwise import cosine_similarity, cosine_distances\n",
        "\n",
        "def my_function(disputed_index):\n",
        "  list_of_authors = []\n",
        "  cosine_distances(tf_sparse) \n",
        "  array = cosine_distances(tf_sparse)[disputed_index]\n",
        "  sorted_array = np.argsort(array)\n",
        "  for i in range(0, 85):\n",
        "    if isinstance(authorship_df.iloc[sorted_array[i]][\"Author\"], str) == True:\n",
        "      list_of_authors.append(authorship_df.iloc[sorted_array[i]][\"Author\"])\n",
        "      if len(list_of_authors) == 5:\n",
        "        break\n",
        "  return list_of_authors"
      ],
      "metadata": {
        "id": "6ozI9tplGjT-"
      },
      "execution_count": 20,
      "outputs": []
    },
    {
      "cell_type": "code",
      "source": [
        "for i in disputed_index_list:\n",
        "  print(str(i + 1) + \" \" + str(my_function(i)) + \"\\t\")"
      ],
      "metadata": {
        "colab": {
          "base_uri": "https://localhost:8080/"
        },
        "id": "nE07evLjQxYH",
        "outputId": "9618bed9-4acf-4a70-9723-98043b8b853c"
      },
      "execution_count": 21,
      "outputs": [
        {
          "output_type": "stream",
          "name": "stdout",
          "text": [
            "18 ['Hamilton', 'Madison', 'Madison', 'Hamilton', 'Madison']\t\n",
            "19 ['Hamilton', 'Madison', 'Madison', 'Hamilton', 'Hamilton']\t\n",
            "20 ['Madison', 'Madison', 'Madison', 'Madison', 'Hamilton']\t\n",
            "49 ['Hamilton', 'Madison', 'Madison', 'Hamilton', 'Madison']\t\n",
            "50 ['Madison', 'Madison', 'Madison', 'Madison', 'Madison']\t\n",
            "51 ['Madison', 'Madison', 'Madison', 'Madison', 'Madison']\t\n",
            "52 ['Madison', 'Madison', 'Hamilton', 'Madison', 'Hamilton']\t\n",
            "53 ['Madison', 'Madison', 'Hamilton', 'Hamilton', 'Madison']\t\n",
            "54 ['Madison', 'Madison', 'Hamilton', 'Hamilton', 'Hamilton']\t\n",
            "55 ['Hamilton', 'Madison', 'Madison', 'Hamilton', 'Hamilton']\t\n",
            "56 ['Hamilton', 'Hamilton', 'Hamilton', 'Hamilton', 'Hamilton']\t\n",
            "57 ['Hamilton', 'Madison', 'Madison', 'Madison', 'Madison']\t\n",
            "58 ['Madison', 'Madison', 'Madison', 'Madison', 'Madison']\t\n",
            "62 ['Madison', 'Hamilton', 'Hamilton', 'Hamilton', 'Madison']\t\n",
            "63 ['Madison', 'Madison', 'Hamilton', 'Madison', 'Madison']\t\n"
          ]
        }
      ]
    },
    {
      "cell_type": "code",
      "source": [
        "# https://www.kite.com/python/answers/how-to-find-the-most-common-element-in-a-list-in-python\n",
        "for i in disputed_index_list:\n",
        "  print(str(i + 1) + \" \" + str(max(my_function(i), key = my_function(i).count)) + \"\\t\")"
      ],
      "metadata": {
        "colab": {
          "base_uri": "https://localhost:8080/"
        },
        "id": "nzsM3C-fb5VI",
        "outputId": "7a1568a2-4d56-453c-a1a4-4fb401ec9fbb"
      },
      "execution_count": 22,
      "outputs": [
        {
          "output_type": "stream",
          "name": "stdout",
          "text": [
            "18 Madison\t\n",
            "19 Hamilton\t\n",
            "20 Madison\t\n",
            "49 Madison\t\n",
            "50 Madison\t\n",
            "51 Madison\t\n",
            "52 Madison\t\n",
            "53 Madison\t\n",
            "54 Hamilton\t\n",
            "55 Hamilton\t\n",
            "56 Hamilton\t\n",
            "57 Madison\t\n",
            "58 Madison\t\n",
            "62 Hamilton\t\n",
            "63 Madison\t\n"
          ]
        }
      ]
    },
    {
      "cell_type": "markdown",
      "source": [
        "Paper 18: Madison\t\n",
        "Paper 19: Hamilton\t\n",
        "Paper 20: Madison\t\n",
        "Paper 49: Madison\t\n",
        "Paper 50: Madison\t\n",
        "Paper 51: Madison\t\n",
        "Paper 52: Madison\t\n",
        "Paper 53: Madison\t\n",
        "Paper 54: Hamilton\t\n",
        "Paper 55: Hamilton\t\n",
        "Paper 56: Hamilton\t\n",
        "Paper 57: Madison\t\n",
        "Paper 58: Madison\t\n",
        "Paper 62: Hamilton\t\n",
        "Paper 63: Madison"
      ],
      "metadata": {
        "id": "BRwg9PklRfwA"
      }
    },
    {
      "cell_type": "markdown",
      "metadata": {
        "id": "8Ng3BgkXBLUw"
      },
      "source": [
        "## Submission Instructions\n",
        "\n",
        "- Copy this notebook to your own Drive, if you have not already.\n",
        "- Restart this notebook and run the cells from beginning to end. \n",
        "  - Go to Runtime > Restart and Run All.\n",
        "- Rename this notebook by clicking on \"DATA 301 Lab 5 - YOUR NAMES HERE\" at the very top of this page. Replace \"YOUR NAMES HERE\" with the first and last names of you (and your partners, for Phase 2).\n",
        "- Get the link to your notebook:\n",
        "  - Click on \"Share\" at the top-right. \n",
        "  - Change the settings to \"Anyone with the link can view\". \n",
        "  - Copy the sharing link into Canvas."
      ]
    }
  ]
}